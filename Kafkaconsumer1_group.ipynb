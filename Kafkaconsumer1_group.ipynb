{
 "cells": [
  {
   "cell_type": "code",
   "execution_count": null,
   "id": "925c87c4-1e44-4a16-8f2a-dc3d00f274ae",
   "metadata": {},
   "outputs": [
    {
     "name": "stdout",
     "output_type": "stream",
     "text": [
      "📥 Listening for messages...\n",
      "\n",
      "🔹 2025-02-16 16:45:17.138608 - sidharth: Hi How are you\n",
      "🔹 2025-02-16 16:47:18.644848 - Boby: hellooooooo\n",
      "🔹 2025-02-16 16:56:31.078035 - Boby: hi\n",
      "🔹 2025-02-16 16:56:56.826716 - Boby: hiello\n",
      "🔹 2025-02-16 17:02:49.103745 - Sidharth: Hello, everyone!\n",
      "🔹 2025-02-16 17:03:21.299576 - Sidharth:  How's it going?\n",
      "🔹 2025-02-16 17:03:53.807844 - Boby: Hey Sidharth! I'm good.\n"
     ]
    }
   ],
   "source": [
    "from kafka import KafkaConsumer\n",
    "import json\n",
    "\n",
    "# Create Kafka Consumer\n",
    "consumer = KafkaConsumer(\n",
    "    'chat-topic',\n",
    "    bootstrap_servers='localhost:9092',\n",
    "    auto_offset_reset='earliest',\n",
    "    value_deserializer=lambda v: json.loads(v.decode('utf-8'))  # Convert bytes to dictionary\n",
    ")\n",
    "\n",
    "print(\"📥 Listening for messages...\\n\")\n",
    "\n",
    "# Open a file to store messages\n",
    "with open(\"chat_log.txt\", \"a\") as log_file:\n",
    "    for message in consumer:\n",
    "        chat_data = message.value\n",
    "        log_entry = f\"{chat_data['timestamp']} - {chat_data['user']}: {chat_data['message']}\"\n",
    "        print(f\"🔹 {log_entry}\")\n",
    "        log_file.write(log_entry + \"\\n\")  # Save chat to file\n",
    "\n"
   ]
  },
  {
   "cell_type": "code",
   "execution_count": 8,
   "id": "07235e83-7b7e-40ef-8568-5379db2c31fc",
   "metadata": {},
   "outputs": [],
   "source": [
    "\n"
   ]
  },
  {
   "cell_type": "code",
   "execution_count": null,
   "id": "0dc6921b-e698-482f-a0f0-b12bdc0ae993",
   "metadata": {},
   "outputs": [],
   "source": []
  },
  {
   "cell_type": "code",
   "execution_count": null,
   "id": "fa82b7f5-752c-4cf7-8938-3402d9ad2d71",
   "metadata": {},
   "outputs": [],
   "source": []
  },
  {
   "cell_type": "code",
   "execution_count": null,
   "id": "37ee0b1a-78d5-42c5-b0b9-dd7f2fdcc836",
   "metadata": {},
   "outputs": [],
   "source": []
  },
  {
   "cell_type": "code",
   "execution_count": null,
   "id": "cfd3026f-4e96-402d-81cd-4f394f771d94",
   "metadata": {},
   "outputs": [],
   "source": []
  }
 ],
 "metadata": {
  "kernelspec": {
   "display_name": "Python [conda env:base] *",
   "language": "python",
   "name": "conda-base-py"
  },
  "language_info": {
   "codemirror_mode": {
    "name": "ipython",
    "version": 3
   },
   "file_extension": ".py",
   "mimetype": "text/x-python",
   "name": "python",
   "nbconvert_exporter": "python",
   "pygments_lexer": "ipython3",
   "version": "3.12.7"
  }
 },
 "nbformat": 4,
 "nbformat_minor": 5
}
