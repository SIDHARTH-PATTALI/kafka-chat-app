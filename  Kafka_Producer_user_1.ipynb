{
 "cells": [
  {
   "cell_type": "code",
   "execution_count": null,
   "id": "28bfa29a-755d-4dd6-8962-9c6e6560af60",
   "metadata": {},
   "outputs": [
    {
     "name": "stdin",
     "output_type": "stream",
     "text": [
      "Enter your name:  Sidharth\n",
      "You:  Hello, everyone!\n"
     ]
    },
    {
     "name": "stdout",
     "output_type": "stream",
     "text": [
      "✅ Sent: {'user': 'Sidharth', 'message': 'Hello, everyone!', 'timestamp': '2025-02-16 17:02:49.103745'}\n"
     ]
    },
    {
     "name": "stdin",
     "output_type": "stream",
     "text": [
      "You:   How's it going?\n"
     ]
    },
    {
     "name": "stdout",
     "output_type": "stream",
     "text": [
      "✅ Sent: {'user': 'Sidharth', 'message': \" How's it going?\", 'timestamp': '2025-02-16 17:03:21.299576'}\n"
     ]
    }
   ],
   "source": [
    "from kafka import KafkaProducer\n",
    "import json\n",
    "import datetime\n",
    "\n",
    "# Create Kafka Producer\n",
    "producer = KafkaProducer(\n",
    "    bootstrap_servers='localhost:9092',\n",
    "    value_serializer=lambda v: json.dumps(v).encode('utf-8')  # Convert message to bytes\n",
    ")\n",
    "\n",
    "# Ask for user name\n",
    "user_name = input(\"Enter your name: \")\n",
    "\n",
    "while True:\n",
    "    message = input(\"You: \")  # Get message from user\n",
    "    if message.lower() == \"exit\":\n",
    "        break  # Stop when user types \"exit\"\n",
    "\n",
    "    chat_data = {\n",
    "        \"user\": user_name,\n",
    "        \"message\": message,\n",
    "        \"timestamp\": str(datetime.datetime.now())\n",
    "    }\n",
    "\n",
    "    producer.send('chat-topic', value=chat_data)\n",
    "    print(f\"✅ Sent: {chat_data}\")\n",
    "\n",
    "producer.close()\n"
   ]
  },
  {
   "cell_type": "code",
   "execution_count": null,
   "id": "fccf656a-bdfc-49a8-8875-305b57ac6a45",
   "metadata": {},
   "outputs": [],
   "source": []
  },
  {
   "cell_type": "code",
   "execution_count": null,
   "id": "c515bd3b-b811-4955-b652-51416bbd29cc",
   "metadata": {},
   "outputs": [],
   "source": []
  },
  {
   "cell_type": "code",
   "execution_count": null,
   "id": "79bc7f8e-4e97-44d3-ab55-e83b3ec43756",
   "metadata": {},
   "outputs": [],
   "source": []
  },
  {
   "cell_type": "code",
   "execution_count": 7,
   "id": "bb3dbb36-d29e-473d-97ad-66cb3eec2abe",
   "metadata": {},
   "outputs": [],
   "source": []
  },
  {
   "cell_type": "code",
   "execution_count": 12,
   "id": "97884773-847f-4c15-af64-42bb6157f661",
   "metadata": {},
   "outputs": [],
   "source": [
    "\n"
   ]
  },
  {
   "cell_type": "code",
   "execution_count": null,
   "id": "b2f1d65b-2ebf-4696-9b8f-44ea4c52d996",
   "metadata": {},
   "outputs": [],
   "source": []
  },
  {
   "cell_type": "code",
   "execution_count": null,
   "id": "76c27cbc-9522-46ee-98a7-b6935734911d",
   "metadata": {},
   "outputs": [],
   "source": []
  },
  {
   "cell_type": "code",
   "execution_count": null,
   "id": "88b8b506-0593-4ad4-a890-c3bbc869f114",
   "metadata": {},
   "outputs": [],
   "source": []
  }
 ],
 "metadata": {
  "kernelspec": {
   "display_name": "Python [conda env:base] *",
   "language": "python",
   "name": "conda-base-py"
  },
  "language_info": {
   "codemirror_mode": {
    "name": "ipython",
    "version": 3
   },
   "file_extension": ".py",
   "mimetype": "text/x-python",
   "name": "python",
   "nbconvert_exporter": "python",
   "pygments_lexer": "ipython3",
   "version": "3.12.7"
  }
 },
 "nbformat": 4,
 "nbformat_minor": 5
}
