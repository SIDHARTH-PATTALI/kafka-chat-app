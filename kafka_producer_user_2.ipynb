{
 "cells": [
  {
   "cell_type": "code",
   "execution_count": null,
   "id": "56bf8b38-ceab-4bde-94d7-43145f8c71d2",
   "metadata": {},
   "outputs": [
    {
     "name": "stdin",
     "output_type": "stream",
     "text": [
      "Enter your name:  Boby\n",
      "You:  Hey Sidharth! I'm good.\n"
     ]
    },
    {
     "name": "stdout",
     "output_type": "stream",
     "text": [
      "✅ Sent: {'user': 'Boby', 'message': \"Hey Sidharth! I'm good.\", 'timestamp': '2025-02-16 17:03:53.807844'}\n"
     ]
    }
   ],
   "source": [
    "from kafka import KafkaProducer\n",
    "import json\n",
    "import datetime\n",
    "\n",
    "# Create Kafka Producer\n",
    "producer = KafkaProducer(\n",
    "    bootstrap_servers='localhost:9092',\n",
    "    value_serializer=lambda v: json.dumps(v).encode('utf-8')  # Convert message to bytes\n",
    ")\n",
    "\n",
    "# Ask for user name\n",
    "user_name = input(\"Enter your name: \")\n",
    "\n",
    "while True:\n",
    "    message = input(\"You: \")  # Get message from user\n",
    "    if message.lower() == \"exit\":\n",
    "        break  # Stop when user types \"exit\"\n",
    "\n",
    "    chat_data = {\n",
    "        \"user\": user_name,\n",
    "        \"message\": message,\n",
    "        \"timestamp\": str(datetime.datetime.now())\n",
    "    }\n",
    "\n",
    "    producer.send('chat-topic', value=chat_data)\n",
    "    print(f\"✅ Sent: {chat_data}\")\n",
    "\n",
    "producer.close()\n"
   ]
  }
 ],
 "metadata": {
  "kernelspec": {
   "display_name": "Python [conda env:base] *",
   "language": "python",
   "name": "conda-base-py"
  },
  "language_info": {
   "codemirror_mode": {
    "name": "ipython",
    "version": 3
   },
   "file_extension": ".py",
   "mimetype": "text/x-python",
   "name": "python",
   "nbconvert_exporter": "python",
   "pygments_lexer": "ipython3",
   "version": "3.12.7"
  }
 },
 "nbformat": 4,
 "nbformat_minor": 5
}
